{
 "cells": [
  {
   "cell_type": "markdown",
   "id": "380c7f00",
   "metadata": {},
   "source": [
    "# Execução "
   ]
  },
  {
   "cell_type": "markdown",
   "id": "ab3eb1e3",
   "metadata": {},
   "source": [
    "Primeiramente, extrai-se as funções de cada um dos módulos implementados."
   ]
  },
  {
   "cell_type": "code",
   "execution_count": 1,
   "id": "5b51301a",
   "metadata": {},
   "outputs": [],
   "source": [
    "from ipynb.fs.full.web_crawling import *\n",
    "from ipynb.fs.full.clustering import *\n",
    "from ipynb.fs.full.clustering_metric import *"
   ]
  },
  {
   "cell_type": "markdown",
   "id": "32350eb3",
   "metadata": {},
   "source": [
    "As urls bases indicam as páginas que deverão ser exploradas."
   ]
  },
  {
   "cell_type": "code",
   "execution_count": 2,
   "id": "9cb90477",
   "metadata": {},
   "outputs": [],
   "source": [
    "urls_bases = [\"https://sardoa.mg.gov.br/transparencia\", \"https://coroaci.mg.gov.br/transparencia\", \"https://machacalis.mg.gov.br/transparencia\"]"
   ]
  },
  {
   "cell_type": "code",
   "execution_count": 3,
   "id": "bf6c58a9",
   "metadata": {},
   "outputs": [
    {
     "data": {
      "text/plain": [
       "<Task pending name='Task-4' coro=<explorar_urls() running at /home/arthur/C01/explorador_de_links.ipynb:222>>"
      ]
     },
     "execution_count": 3,
     "metadata": {},
     "output_type": "execute_result"
    },
    {
     "name": "stdout",
     "output_type": "stream",
     "text": [
      "Paginas visitadas: set()\n",
      "Paginas: {'https://sardoa.mg.gov.br/transparencia'}\n",
      "Actual depth: 1\n"
     ]
    }
   ],
   "source": [
    "loop = asyncio.get_event_loop()\n",
    "loop.create_task(explorar_urls(urls_bases, 1, True))"
   ]
  },
  {
   "cell_type": "markdown",
   "id": "5186f9c1",
   "metadata": {},
   "source": [
    "Extrai-se os botões das urls encontradas"
   ]
  },
  {
   "cell_type": "code",
   "execution_count": 4,
   "id": "4e9d6d81",
   "metadata": {},
   "outputs": [],
   "source": [
    "arq = open(\"urls.txt\", \"r\")\n",
    "urls = arq.readlines()\n",
    "arq.close()"
   ]
  },
  {
   "cell_type": "code",
   "execution_count": null,
   "id": "07f931fd",
   "metadata": {},
   "outputs": [],
   "source": [
    "links_para_botoes(urls)"
   ]
  },
  {
   "cell_type": "markdown",
   "id": "6467a367",
   "metadata": {},
   "source": [
    "Os botões então são usados para gerar a matriz de distâncias"
   ]
  },
  {
   "cell_type": "code",
   "execution_count": 6,
   "id": "82d98a28",
   "metadata": {},
   "outputs": [],
   "source": [
    "arq = open(\"botoes.txt\", \"r\")\n",
    "botoes = arq.read()\n",
    "arq.close()"
   ]
  },
  {
   "cell_type": "code",
   "execution_count": 7,
   "id": "667f6180",
   "metadata": {},
   "outputs": [],
   "source": [
    "lista_botoes = botoes.strip('][').split(', ')"
   ]
  },
  {
   "cell_type": "code",
   "execution_count": 8,
   "id": "1973105e",
   "metadata": {},
   "outputs": [],
   "source": [
    "matriz = gerar_matriz_distancias(lista_botoes)"
   ]
  },
  {
   "cell_type": "markdown",
   "id": "3590d9ab",
   "metadata": {},
   "source": [
    "### Hierárquico"
   ]
  },
  {
   "cell_type": "code",
   "execution_count": 9,
   "id": "f3b042e2",
   "metadata": {},
   "outputs": [],
   "source": [
    "resultados = agrupar_urls(matriz, 0.2)"
   ]
  },
  {
   "cell_type": "code",
   "execution_count": 10,
   "id": "0c496065",
   "metadata": {},
   "outputs": [
    {
     "name": "stdout",
     "output_type": "stream",
     "text": [
      "(array([5, 1, 6, 7, 7, 6, 7, 7, 2, 5, 4, 7, 7, 5, 5, 7, 7, 4, 8, 7, 6, 7,\n",
      "       7, 7, 6, 2, 7, 7, 5, 7, 6, 7, 5, 4, 2, 1, 7, 3, 7], dtype=int32), 8)\n"
     ]
    }
   ],
   "source": [
    "print(resultados)"
   ]
  },
  {
   "cell_type": "code",
   "execution_count": 11,
   "id": "4a0ac250",
   "metadata": {},
   "outputs": [
    {
     "data": {
      "text/plain": [
       "0.94871795"
      ]
     },
     "execution_count": 11,
     "metadata": {},
     "output_type": "execute_result"
    }
   ],
   "source": [
    "calcular_silhueta(matriz, resultados[0])"
   ]
  },
  {
   "cell_type": "code",
   "execution_count": 12,
   "id": "15e45ce6",
   "metadata": {},
   "outputs": [
    {
     "data": {
      "text/plain": [
       "{5: ['https://sardoa.mg.gov.br/transparencia/relatorios\\n',\n",
       "  'https://sardoa.mg.gov.br/transparencia/editais\\n',\n",
       "  'https://coroaci.mg.gov.br/transparencia/editais\\n',\n",
       "  'https://coroaci.mg.gov.br/transparencia/relatorios\\n',\n",
       "  'https://machacalis.mg.gov.br/transparencia/relatorios\\n',\n",
       "  'https://machacalis.mg.gov.br/transparencia/editais\\n'],\n",
       " 1: ['https://sardoa.mg.gov.br/transparencia/despesas-com-pessoal\\n',\n",
       "  'https://machacalis.mg.gov.br/transparencia/despesas-com-pessoal\\n'],\n",
       " 6: ['https://sardoa.mg.gov.br/transparencia/diarias\\n',\n",
       "  'https://sardoa.mg.gov.br/transparencia/receitas\\n',\n",
       "  'https://coroaci.mg.gov.br/transparencia/receitas\\n',\n",
       "  'https://coroaci.mg.gov.br/transparencia/diarias\\n',\n",
       "  'https://machacalis.mg.gov.br/transparencia/receitas\\n'],\n",
       " 7: ['https://sardoa.mg.gov.br/transparencia/contratos\\n',\n",
       "  'https://sardoa.mg.gov.br/transparencia/licitacoes\\n',\n",
       "  'https://sardoa.mg.gov.br/transparencia/empenhos\\n',\n",
       "  'https://sardoa.mg.gov.br/transparencia/pagamentos\\n',\n",
       "  'https://sardoa.mg.gov.br/transparencia/obras\\n',\n",
       "  'https://sardoa.mg.gov.br/transparencia/dispensas\\n',\n",
       "  'https://coroaci.mg.gov.br/transparencia/pagamentos\\n',\n",
       "  'https://coroaci.mg.gov.br/transparencia/dispensas\\n',\n",
       "  'https://coroaci.mg.gov.br/transparencia/obras\\n',\n",
       "  'https://coroaci.mg.gov.br/transparencia/contratos\\n',\n",
       "  'https://coroaci.mg.gov.br/transparencia/licitacoes\\n',\n",
       "  'https://coroaci.mg.gov.br/transparencia/empenhos\\n',\n",
       "  'https://machacalis.mg.gov.br/transparencia/dispensas\\n',\n",
       "  'https://machacalis.mg.gov.br/transparencia/empenhos\\n',\n",
       "  'https://machacalis.mg.gov.br/transparencia/pagamentos\\n',\n",
       "  'https://machacalis.mg.gov.br/transparencia/contratos\\n',\n",
       "  'https://machacalis.mg.gov.br/transparencia/obras\\n',\n",
       "  'https://machacalis.mg.gov.br/transparencia/licitacoes'],\n",
       " 2: ['https://sardoa.mg.gov.br/transparencia/folhas-de-pagamento\\n',\n",
       "  'https://coroaci.mg.gov.br/transparencia/folhas-de-pagamento\\n',\n",
       "  'https://machacalis.mg.gov.br/transparencia/folhas-de-pagamento\\n'],\n",
       " 4: ['https://sardoa.mg.gov.br/licitacoes/1\\n',\n",
       "  'https://coroaci.mg.gov.br/licitacoes/1\\n',\n",
       "  'https://machacalis.mg.gov.br/licitacoes/1\\n'],\n",
       " 8: ['https://coroaci.mg.gov.br/transparencia/despesas-com-pessoal\\n'],\n",
       " 3: ['https://machacalis.mg.gov.br/transparencia/diarias\\n']}"
      ]
     },
     "execution_count": 12,
     "metadata": {},
     "output_type": "execute_result"
    }
   ],
   "source": [
    "separar_links(urls, resultados[0])"
   ]
  },
  {
   "cell_type": "markdown",
   "id": "dda714b3",
   "metadata": {},
   "source": [
    "### DBSCAN"
   ]
  },
  {
   "cell_type": "code",
   "execution_count": 13,
   "id": "b9973410",
   "metadata": {},
   "outputs": [],
   "source": [
    "resultados = agrupar_dbscan(matriz, 2, 0.02)"
   ]
  },
  {
   "cell_type": "code",
   "execution_count": 14,
   "id": "0a72a11f",
   "metadata": {},
   "outputs": [
    {
     "name": "stdout",
     "output_type": "stream",
     "text": [
      "(array([ 0,  1,  2,  3,  3,  2,  3,  3,  4,  0,  5,  3,  3,  0,  0,  3,  3,\n",
      "        5, -1,  3,  2,  3,  3,  3,  2,  4,  3,  3,  0,  3,  2,  3,  0,  5,\n",
      "        4,  1,  3, -1,  3]), 7)\n"
     ]
    }
   ],
   "source": [
    "print(resultados)"
   ]
  },
  {
   "cell_type": "code",
   "execution_count": 15,
   "id": "49435a92",
   "metadata": {},
   "outputs": [
    {
     "data": {
      "text/plain": [
       "0.93048567"
      ]
     },
     "execution_count": 15,
     "metadata": {},
     "output_type": "execute_result"
    }
   ],
   "source": [
    "calcular_silhueta(matriz, resultados[0])"
   ]
  },
  {
   "cell_type": "code",
   "execution_count": 16,
   "id": "4ea8832c",
   "metadata": {},
   "outputs": [
    {
     "data": {
      "text/plain": [
       "{0: ['https://sardoa.mg.gov.br/transparencia/relatorios\\n',\n",
       "  'https://sardoa.mg.gov.br/transparencia/editais\\n',\n",
       "  'https://coroaci.mg.gov.br/transparencia/editais\\n',\n",
       "  'https://coroaci.mg.gov.br/transparencia/relatorios\\n',\n",
       "  'https://machacalis.mg.gov.br/transparencia/relatorios\\n',\n",
       "  'https://machacalis.mg.gov.br/transparencia/editais\\n'],\n",
       " 1: ['https://sardoa.mg.gov.br/transparencia/despesas-com-pessoal\\n',\n",
       "  'https://machacalis.mg.gov.br/transparencia/despesas-com-pessoal\\n'],\n",
       " 2: ['https://sardoa.mg.gov.br/transparencia/diarias\\n',\n",
       "  'https://sardoa.mg.gov.br/transparencia/receitas\\n',\n",
       "  'https://coroaci.mg.gov.br/transparencia/receitas\\n',\n",
       "  'https://coroaci.mg.gov.br/transparencia/diarias\\n',\n",
       "  'https://machacalis.mg.gov.br/transparencia/receitas\\n'],\n",
       " 3: ['https://sardoa.mg.gov.br/transparencia/contratos\\n',\n",
       "  'https://sardoa.mg.gov.br/transparencia/licitacoes\\n',\n",
       "  'https://sardoa.mg.gov.br/transparencia/empenhos\\n',\n",
       "  'https://sardoa.mg.gov.br/transparencia/pagamentos\\n',\n",
       "  'https://sardoa.mg.gov.br/transparencia/obras\\n',\n",
       "  'https://sardoa.mg.gov.br/transparencia/dispensas\\n',\n",
       "  'https://coroaci.mg.gov.br/transparencia/pagamentos\\n',\n",
       "  'https://coroaci.mg.gov.br/transparencia/dispensas\\n',\n",
       "  'https://coroaci.mg.gov.br/transparencia/obras\\n',\n",
       "  'https://coroaci.mg.gov.br/transparencia/contratos\\n',\n",
       "  'https://coroaci.mg.gov.br/transparencia/licitacoes\\n',\n",
       "  'https://coroaci.mg.gov.br/transparencia/empenhos\\n',\n",
       "  'https://machacalis.mg.gov.br/transparencia/dispensas\\n',\n",
       "  'https://machacalis.mg.gov.br/transparencia/empenhos\\n',\n",
       "  'https://machacalis.mg.gov.br/transparencia/pagamentos\\n',\n",
       "  'https://machacalis.mg.gov.br/transparencia/contratos\\n',\n",
       "  'https://machacalis.mg.gov.br/transparencia/obras\\n',\n",
       "  'https://machacalis.mg.gov.br/transparencia/licitacoes'],\n",
       " 4: ['https://sardoa.mg.gov.br/transparencia/folhas-de-pagamento\\n',\n",
       "  'https://coroaci.mg.gov.br/transparencia/folhas-de-pagamento\\n',\n",
       "  'https://machacalis.mg.gov.br/transparencia/folhas-de-pagamento\\n'],\n",
       " 5: ['https://sardoa.mg.gov.br/licitacoes/1\\n',\n",
       "  'https://coroaci.mg.gov.br/licitacoes/1\\n',\n",
       "  'https://machacalis.mg.gov.br/licitacoes/1\\n'],\n",
       " -1: ['https://coroaci.mg.gov.br/transparencia/despesas-com-pessoal\\n',\n",
       "  'https://machacalis.mg.gov.br/transparencia/diarias\\n']}"
      ]
     },
     "execution_count": 16,
     "metadata": {},
     "output_type": "execute_result"
    }
   ],
   "source": [
    "separar_links(urls, resultados[0])"
   ]
  },
  {
   "cell_type": "markdown",
   "id": "e7ba9eee",
   "metadata": {},
   "source": [
    "### Affinity Propagation"
   ]
  },
  {
   "cell_type": "code",
   "execution_count": 28,
   "id": "92a4c277",
   "metadata": {},
   "outputs": [],
   "source": [
    "resultados = agrupar_affinity(matriz, .5)"
   ]
  },
  {
   "cell_type": "code",
   "execution_count": 29,
   "id": "12990666",
   "metadata": {},
   "outputs": [
    {
     "name": "stdout",
     "output_type": "stream",
     "text": [
      "(array([0, 0, 0, 0, 0, 0, 0, 0, 0, 0, 0, 0, 0, 0, 0, 0, 0, 0, 0, 0, 0, 0,\n",
      "       0, 0, 0, 0, 0, 0, 0, 0, 0, 0, 0, 0, 0, 0, 0, 0, 0]), 1)\n"
     ]
    }
   ],
   "source": [
    "print(resultados)"
   ]
  },
  {
   "cell_type": "code",
   "execution_count": null,
   "id": "16547644",
   "metadata": {},
   "outputs": [],
   "source": [
    "calcular_silhueta(matriz, resultados[0])"
   ]
  },
  {
   "cell_type": "code",
   "execution_count": 20,
   "id": "29dd2dc4",
   "metadata": {},
   "outputs": [
    {
     "data": {
      "text/plain": [
       "{0: ['https://sardoa.mg.gov.br/transparencia/relatorios\\n',\n",
       "  'https://sardoa.mg.gov.br/transparencia/despesas-com-pessoal\\n',\n",
       "  'https://sardoa.mg.gov.br/transparencia/diarias\\n',\n",
       "  'https://sardoa.mg.gov.br/transparencia/contratos\\n',\n",
       "  'https://sardoa.mg.gov.br/transparencia/licitacoes\\n',\n",
       "  'https://sardoa.mg.gov.br/transparencia/receitas\\n',\n",
       "  'https://sardoa.mg.gov.br/transparencia/empenhos\\n',\n",
       "  'https://sardoa.mg.gov.br/transparencia/pagamentos\\n',\n",
       "  'https://sardoa.mg.gov.br/transparencia/folhas-de-pagamento\\n',\n",
       "  'https://sardoa.mg.gov.br/transparencia/editais\\n',\n",
       "  'https://sardoa.mg.gov.br/licitacoes/1\\n',\n",
       "  'https://sardoa.mg.gov.br/transparencia/obras\\n',\n",
       "  'https://sardoa.mg.gov.br/transparencia/dispensas\\n',\n",
       "  'https://coroaci.mg.gov.br/transparencia/editais\\n',\n",
       "  'https://coroaci.mg.gov.br/transparencia/relatorios\\n',\n",
       "  'https://coroaci.mg.gov.br/transparencia/pagamentos\\n',\n",
       "  'https://coroaci.mg.gov.br/transparencia/dispensas\\n',\n",
       "  'https://coroaci.mg.gov.br/licitacoes/1\\n',\n",
       "  'https://coroaci.mg.gov.br/transparencia/despesas-com-pessoal\\n',\n",
       "  'https://coroaci.mg.gov.br/transparencia/obras\\n',\n",
       "  'https://coroaci.mg.gov.br/transparencia/receitas\\n',\n",
       "  'https://coroaci.mg.gov.br/transparencia/contratos\\n',\n",
       "  'https://coroaci.mg.gov.br/transparencia/licitacoes\\n',\n",
       "  'https://coroaci.mg.gov.br/transparencia/empenhos\\n',\n",
       "  'https://coroaci.mg.gov.br/transparencia/diarias\\n',\n",
       "  'https://coroaci.mg.gov.br/transparencia/folhas-de-pagamento\\n',\n",
       "  'https://machacalis.mg.gov.br/transparencia/dispensas\\n',\n",
       "  'https://machacalis.mg.gov.br/transparencia/empenhos\\n',\n",
       "  'https://machacalis.mg.gov.br/transparencia/relatorios\\n',\n",
       "  'https://machacalis.mg.gov.br/transparencia/pagamentos\\n',\n",
       "  'https://machacalis.mg.gov.br/transparencia/receitas\\n',\n",
       "  'https://machacalis.mg.gov.br/transparencia/contratos\\n',\n",
       "  'https://machacalis.mg.gov.br/transparencia/editais\\n',\n",
       "  'https://machacalis.mg.gov.br/licitacoes/1\\n',\n",
       "  'https://machacalis.mg.gov.br/transparencia/folhas-de-pagamento\\n',\n",
       "  'https://machacalis.mg.gov.br/transparencia/despesas-com-pessoal\\n',\n",
       "  'https://machacalis.mg.gov.br/transparencia/obras\\n',\n",
       "  'https://machacalis.mg.gov.br/transparencia/diarias\\n',\n",
       "  'https://machacalis.mg.gov.br/transparencia/licitacoes']}"
      ]
     },
     "execution_count": 20,
     "metadata": {},
     "output_type": "execute_result"
    }
   ],
   "source": [
    "separar_links(urls, resultados[0])"
   ]
  },
  {
   "cell_type": "code",
   "execution_count": null,
   "id": "4464b041",
   "metadata": {},
   "outputs": [],
   "source": []
  }
 ],
 "metadata": {
  "kernelspec": {
   "display_name": "Python 3 (ipykernel)",
   "language": "python",
   "name": "python3"
  },
  "language_info": {
   "codemirror_mode": {
    "name": "ipython",
    "version": 3
   },
   "file_extension": ".py",
   "mimetype": "text/x-python",
   "name": "python",
   "nbconvert_exporter": "python",
   "pygments_lexer": "ipython3",
   "version": "3.12.3"
  }
 },
 "nbformat": 4,
 "nbformat_minor": 5
}
